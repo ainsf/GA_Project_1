{
 "cells": [
  {
   "cell_type": "markdown",
   "metadata": {},
   "source": [
    "<img src=\"http://imgur.com/1ZcRyrc.png\" style=\"float: left; margin: 20px; height: 55px\">\n",
    "\n",
    "# Project 1: Python Coding Exercises\n",
    "\n",
    "_Authors: Joseph Nelson (DC) _\n",
    "\n",
    "---"
   ]
  },
  {
   "cell_type": "markdown",
   "metadata": {},
   "source": [
    "The following code challenges are drawn from common exercises used in technical interviews.\n",
    "\n",
    "Please note that there may be several ways to approach each challenge. If you get stuck, try mapping out your approach in pseudocode first. Finally, while solutions to problems like these may be found online, remember that if you copy/paste code that you can't explain, you'll be missing out on the point of the project. The only way to truly learn a new skill is through practice, trial, and error - we can only help you improve by understanding where you are having trouble."
   ]
  },
  {
   "cell_type": "markdown",
   "metadata": {},
   "source": [
    "### Challenge 1: Largest Palindrome\n",
    "A palindromic number reads the same both ways. For example, 1234321 is a palindrome. The largest palindrome made from the product of two two-digit numbers is 9009 = 91 × 99. Find the largest palindrome made from the product of two three-digit numbers. Afterward, write a brief explanation walking through your code's logic in markdown."
   ]
  },
  {
   "cell_type": "code",
   "execution_count": 1,
   "metadata": {},
   "outputs": [
    {
     "name": "stdout",
     "output_type": "stream",
     "text": [
      "The largest palindrome made from the product of two three-digit numbers is 906609\n"
     ]
    }
   ],
   "source": [
    "# Set the current biggest number to zero\n",
    "n = 0\n",
    "\n",
    "# iterate the number of three-digit number from 100 to 999\n",
    "for x in range(100, 1000):\n",
    "    # since, we want the product of 2 numbers, the number in the first loop will multiply with the number itself and other bigger number\n",
    "    for y in range(x,1000):\n",
    "        # calculate the product of three-digit numbers\n",
    "        m = x * y\n",
    "        # if the product of two numbers is bigger than current biggest number, it will going through the loop\n",
    "        if m > n:\n",
    "            # change the data type of product to string to easy to compare\n",
    "            s = str(m)\n",
    "            # since we want to find palindromic number, we must make sure that the number reads the same for both ways\n",
    "            # to check if the number reads the same for both ways\n",
    "            if s == s[::-1]:\n",
    "                # if the number reads the same for both ways, it will keep as the biggest number\n",
    "                n = m\n",
    "                \n",
    "# Print the largest palindrome made of two three-digit numbers\n",
    "print('The largest palindrome made from the product of two three-digit numbers is', n)     "
   ]
  },
  {
   "cell_type": "markdown",
   "metadata": {},
   "source": [
    "\n",
    "### Challenge 2: Summation of Primes\n",
    "The sum of the primes below 10 is 2 + 3 + 5 + 7 = 17. Find the sum of all the primes below 2,000. Afterward, write a brief explanation walking through your code's logic in markdown."
   ]
  },
  {
   "cell_type": "code",
   "execution_count": 2,
   "metadata": {},
   "outputs": [
    {
     "name": "stdout",
     "output_type": "stream",
     "text": [
      "The sum of the primes number below 2000 is 277050\n"
     ]
    }
   ],
   "source": [
    "# Create empty list for prime number\n",
    "lst = []\n",
    "\n",
    "# for loop each number in range of 0 to 1999\n",
    "for num in range(2000):\n",
    "   # all prime numbers are greater than 1\n",
    "    if num > 1:\n",
    "        # for loop each number between 2 to number selected in the first loop\n",
    "        # start with 2 because prime number only can be divided with number 1 and also with the number itself\n",
    "        for i in range(2, num):\n",
    "            # to see whether the number can be divided with number other than itself\n",
    "            # if the remainder equal to zero, it is not a prime number\n",
    "            if num % i == 0:\n",
    "                # once the remainder become zero, the looping will stop\n",
    "                break\n",
    "        else:\n",
    "            # insert the prime number into the list\n",
    "            lst.append(num)\n",
    "            \n",
    "# calculate the sum of prime number on the list         \n",
    "print(\"The sum of the primes number below 2000 is\", sum(lst))"
   ]
  },
  {
   "cell_type": "markdown",
   "metadata": {},
   "source": [
    "### Challenge 3: Multiples of 3 and 5\n",
    "If we list all of the natural numbers below 10 that are multiples of 3 or 5, we get 3, 5, 6, and 9. The sum of these multiples is 23. Find the sum of all the multiples of 3 and 5 below 1,000. Afterward, write a brief explanation walking through your code's logic in markdown."
   ]
  },
  {
   "cell_type": "code",
   "execution_count": 3,
   "metadata": {},
   "outputs": [
    {
     "name": "stdout",
     "output_type": "stream",
     "text": [
      "The sum of of all the multiples of 3 and 5 below 1,000 is 33165\n"
     ]
    }
   ],
   "source": [
    "# Create empty list for number of multiples of 3 and 5\n",
    "lst = []\n",
    "\n",
    "# for loop each number in range of 0 to 999\n",
    "for num in range(1000):\n",
    "    # to check whether the number is multiple of 3 and 5 or not\n",
    "    # if the reminder equal to zero, the number will be insert to the list\n",
    "    if num % 3 == 0 and num % 5 == 0:\n",
    "        # insert the multiple number into the list\n",
    "        lst.append(num)\n",
    "    else:\n",
    "        # pass the number\n",
    "        pass\n",
    "\n",
    "# calculate the sum of all the multiple of 3 and 5 on the list\n",
    "print(\"The sum of of all the multiples of 3 and 5 below 1,000 is\", sum(lst))"
   ]
  },
  {
   "cell_type": "markdown",
   "metadata": {},
   "source": [
    "### Challenge 4: String Compressor\n",
    "Implement a method to perform basic string compression using the counts of repeated characters. (This is called run-length encoding.) For example, the string \"aabcccccaaa\" would become a2b1c5a3. If the “compressed” string would not become smaller than the original string, your method should return the original string. You can assume the string has only uppercase and lowercase letters (a–z). Specify whether your solution is case sensitive or case insensitive and what you would need to change to make it the other. Afterward, write a brief explanation walking through your code's logic in markdown."
   ]
  },
  {
   "cell_type": "code",
   "execution_count": 4,
   "metadata": {},
   "outputs": [
    {
     "name": "stdout",
     "output_type": "stream",
     "text": [
      "a2b1c5a3\n",
      "a2B2b1c5A1a3\n",
      "original\n"
     ]
    }
   ],
   "source": [
    "# the string compressor is case sensitive\n",
    "# to make it case insensitive can set the string to uppercase or lowercase first\n",
    "def compressor(string):\n",
    "    # Create empty string\n",
    "    new_string = ''\n",
    "    # at least one occurance of character\n",
    "    count = 1\n",
    "    \n",
    "    # iteration of all index in string  \n",
    "    for i in range(len(string)):\n",
    "        # if the index number is less than the length of string and the character same as the next index, the count will plus 1\n",
    "        if i + 1 < len(string) and string[i] == string[i + 1]:\n",
    "            count += 1\n",
    "        else:\n",
    "            # if the first condition does not met, the character and the count of character will add to the new string\n",
    "            new_string = new_string + string[i] + str(count)\n",
    "            # the count will restart from 1 again for another character\n",
    "            count = 1\n",
    "            \n",
    "    # if the length of new string is less than the length of string, it been compressed and will print the new string\n",
    "    if len(new_string) < len(string):\n",
    "        return new_string\n",
    "    # if the length of new string is more than or equal the length of string, it will print the original string\n",
    "    else:\n",
    "        return string\n",
    "\n",
    "# print the output of compressor function\n",
    "print(compressor('aabcccccaaa'))\n",
    "print(compressor('aaBBbcccccAaaa'))\n",
    "print(compressor('original'))"
   ]
  },
  {
   "cell_type": "code",
   "execution_count": 5,
   "metadata": {},
   "outputs": [
    {
     "name": "stdout",
     "output_type": "stream",
     "text": [
      "a2b1c5a3\n",
      "a2b3c5a4\n",
      "original\n"
     ]
    }
   ],
   "source": [
    "# the string compressor is case insensitive\n",
    "def compressor(string):\n",
    "    # set the string into lowercase letter\n",
    "    string = string.lower()\n",
    "    # Create empty string\n",
    "    new_string = ''\n",
    "    # at least one occurance of character\n",
    "    count = 1\n",
    "    \n",
    "    # iteration of all index in string  \n",
    "    for i in range(len(string)):\n",
    "        # if the index number is less than the length of string and the character same as the next index, the count will plus 1\n",
    "        if i + 1 < len(string) and string[i] == string[i + 1]:\n",
    "            count += 1\n",
    "        else:\n",
    "            # if the first condition does not met, the character and the count of character will add to the new string\n",
    "            new_string = new_string + string[i] + str(count)\n",
    "            # the count will restart from 1 again for another character\n",
    "            count = 1\n",
    "            \n",
    "    # if the length of new string is less than the length of string, it been compressed and will print the new string\n",
    "    if len(new_string) < len(string):\n",
    "        return new_string\n",
    "    # if the length of new string is more than or equal the length of string, it will print the original string\n",
    "    else:\n",
    "        return string\n",
    "\n",
    "# print the output of compressor function\n",
    "print(compressor('aabcccccaaa'))\n",
    "print(compressor('aaBBbcccccAaaa'))\n",
    "print(compressor('original'))"
   ]
  },
  {
   "cell_type": "markdown",
   "metadata": {},
   "source": [
    "### *BONUS* Challenge: FizzBuzz\n",
    "Write a program that prints all of the numbers from 1 to 100. For multiples of 3, instead of the number, print \"Fizz;\" for multiples of 5, print \"Buzz.\" For numbers that are multiples of both 3 and 5, print \"FizzBuzz.\" Afterward, write a brief explanation walking through your code's logic in markdown."
   ]
  },
  {
   "cell_type": "code",
   "execution_count": 6,
   "metadata": {
    "scrolled": false
   },
   "outputs": [
    {
     "name": "stdout",
     "output_type": "stream",
     "text": [
      "1\n",
      "2\n",
      "Fizz\n",
      "4\n",
      "Buzz\n",
      "Fizz\n",
      "7\n",
      "8\n",
      "Fizz\n",
      "Buzz\n",
      "11\n",
      "Fizz\n",
      "13\n",
      "14\n",
      "FizzBuzz\n",
      "16\n",
      "17\n",
      "Fizz\n",
      "19\n",
      "Buzz\n",
      "Fizz\n",
      "22\n",
      "23\n",
      "Fizz\n",
      "Buzz\n",
      "26\n",
      "Fizz\n",
      "28\n",
      "29\n",
      "FizzBuzz\n",
      "31\n",
      "32\n",
      "Fizz\n",
      "34\n",
      "Buzz\n",
      "Fizz\n",
      "37\n",
      "38\n",
      "Fizz\n",
      "Buzz\n",
      "41\n",
      "Fizz\n",
      "43\n",
      "44\n",
      "FizzBuzz\n",
      "46\n",
      "47\n",
      "Fizz\n",
      "49\n",
      "Buzz\n",
      "Fizz\n",
      "52\n",
      "53\n",
      "Fizz\n",
      "Buzz\n",
      "56\n",
      "Fizz\n",
      "58\n",
      "59\n",
      "FizzBuzz\n",
      "61\n",
      "62\n",
      "Fizz\n",
      "64\n",
      "Buzz\n",
      "Fizz\n",
      "67\n",
      "68\n",
      "Fizz\n",
      "Buzz\n",
      "71\n",
      "Fizz\n",
      "73\n",
      "74\n",
      "FizzBuzz\n",
      "76\n",
      "77\n",
      "Fizz\n",
      "79\n",
      "Buzz\n",
      "Fizz\n",
      "82\n",
      "83\n",
      "Fizz\n",
      "Buzz\n",
      "86\n",
      "Fizz\n",
      "88\n",
      "89\n",
      "FizzBuzz\n",
      "91\n",
      "92\n",
      "Fizz\n",
      "94\n",
      "Buzz\n",
      "Fizz\n",
      "97\n",
      "98\n",
      "Fizz\n",
      "Buzz\n"
     ]
    }
   ],
   "source": [
    "# for loop each number in range of 1 to 100\n",
    "for num in range(1,101):\n",
    "    # if remainder of 3 and 5 equal to zero, 'FizzBuzz' will be print\n",
    "    if num % 3 == 0 and num % 5 == 0 :\n",
    "        print(\"FizzBuzz\")\n",
    "    # if remainder of 3 equal to zero, 'Fizz' will be print\n",
    "    elif num % 3 == 0:\n",
    "        print(\"Fizz\")\n",
    "    # if remainder of 5 equal to zero, 'Buzz' will be print\n",
    "    elif num % 5 == 0:\n",
    "        print(\"Buzz\")\n",
    "    # if the condition not meet above, it will print the number\n",
    "    else:\n",
    "        print(num)"
   ]
  }
 ],
 "metadata": {
  "anaconda-cloud": {},
  "kernelspec": {
   "display_name": "Python 3",
   "language": "python",
   "name": "python3"
  },
  "language_info": {
   "codemirror_mode": {
    "name": "ipython",
    "version": 3
   },
   "file_extension": ".py",
   "mimetype": "text/x-python",
   "name": "python",
   "nbconvert_exporter": "python",
   "pygments_lexer": "ipython3",
   "version": "3.8.8"
  }
 },
 "nbformat": 4,
 "nbformat_minor": 2
}
